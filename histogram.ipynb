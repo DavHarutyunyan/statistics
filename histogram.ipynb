{
 "cells": [
  {
   "cell_type": "code",
   "execution_count": 1,
   "id": "91c3bd9c-7bcb-408a-8cca-bdf1053f9af9",
   "metadata": {},
   "outputs": [],
   "source": [
    "import numpy as np\n",
    "import pandas as pd\n",
    "import matplotlib.pyplot as plt"
   ]
  },
  {
   "cell_type": "code",
   "execution_count": 2,
   "id": "77c6b506-0813-4d67-991e-a9b5a5229115",
   "metadata": {},
   "outputs": [],
   "source": [
    "df = pd.read_csv('histogram.csv')\n",
    "dataset = df['Dataset'].values"
   ]
  },
  {
   "cell_type": "code",
   "execution_count": 3,
   "id": "a765fb0f-6d15-452e-9641-e6c22183ddbd",
   "metadata": {},
   "outputs": [
    {
     "data": {
      "text/plain": [
       "92.3"
      ]
     },
     "execution_count": 3,
     "metadata": {},
     "output_type": "execute_result"
    }
   ],
   "source": [
    "intervals = 10\n",
    "interval_width = (dataset.max() - dataset.min()) / intervals\n",
    "interval_width"
   ]
  },
  {
   "cell_type": "code",
   "execution_count": 4,
   "id": "fbbf74e9-cc6f-4413-a4fa-15c27dcd779b",
   "metadata": {},
   "outputs": [],
   "source": [
    "relative_frequency = []\n",
    "interval_start = []\n",
    "interval_end = []\n",
    "absolute_frequency = []\n"
   ]
  },
  {
   "cell_type": "code",
   "execution_count": 5,
   "id": "d1507a4f-67d5-4a43-8f09-e2fcb37ca4ab",
   "metadata": {},
   "outputs": [
    {
     "data": {
      "text/plain": [
       "[13, 105, 198, 290, 382, 474, 567, 659, 751, 844]"
      ]
     },
     "execution_count": 5,
     "metadata": {},
     "output_type": "execute_result"
    }
   ],
   "source": [
    "for i in range(0, intervals-1):\n",
    "    if i==0:\n",
    "        interval_start.append(dataset[0])\n",
    "    interval_start.append(interval_start[i] + interval_width)\n",
    "interval_start = [round(x) for x in interval_start]\n",
    "interval_start"
   ]
  },
  {
   "cell_type": "code",
   "execution_count": 6,
   "id": "513f9fd9-23e0-4398-b0e8-9bfa75db2537",
   "metadata": {},
   "outputs": [
    {
     "data": {
      "text/plain": [
       "[105, 197, 290, 382, 474, 566, 659, 751, 843, 936]"
      ]
     },
     "execution_count": 6,
     "metadata": {},
     "output_type": "execute_result"
    }
   ],
   "source": [
    "for i in range(0, intervals):\n",
    "    interval_end.append(interval_start[i] + interval_width)\n",
    "interval_end = [round(x) for x in interval_end]\n",
    "interval_end"
   ]
  },
  {
   "cell_type": "code",
   "execution_count": 7,
   "id": "c98c3ec8-5598-4adc-b083-338f87e0ebcb",
   "metadata": {},
   "outputs": [
    {
     "data": {
      "text/plain": [
       "[2, 2, 2, 1, 1, 3, 2, 3, 1, 3]"
      ]
     },
     "execution_count": 7,
     "metadata": {},
     "output_type": "execute_result"
    }
   ],
   "source": [
    "index=0\n",
    "for i in range(0, intervals):\n",
    "    count = 0\n",
    "    for j in range(index, len(dataset)):\n",
    "        if (dataset[j] >= interval_start[i]) & (dataset[j] <= interval_end[i]):\n",
    "            count+=1\n",
    "    index += count\n",
    "    absolute_frequency.append(count)\n",
    "absolute_frequency"
   ]
  },
  {
   "cell_type": "code",
   "execution_count": 8,
   "id": "4de1ccc2-5f13-464e-a6a1-9819bf72574a",
   "metadata": {},
   "outputs": [
    {
     "data": {
      "text/plain": [
       "[0.1, 0.1, 0.1, 0.05, 0.05, 0.15, 0.1, 0.15, 0.05, 0.15]"
      ]
     },
     "execution_count": 8,
     "metadata": {},
     "output_type": "execute_result"
    }
   ],
   "source": [
    "for num in absolute_frequency:\n",
    "    relative_frequency.append(num / np.sum(absolute_frequency))\n",
    "\n",
    "relative_frequency = [round(x, 2) for x in relative_frequency]\n",
    "relative_frequency"
   ]
  },
  {
   "cell_type": "code",
   "execution_count": 9,
   "id": "abbc46dd-0617-457f-9f11-f616119be578",
   "metadata": {},
   "outputs": [
    {
     "data": {
      "text/html": [
       "<div>\n",
       "<style scoped>\n",
       "    .dataframe tbody tr th:only-of-type {\n",
       "        vertical-align: middle;\n",
       "    }\n",
       "\n",
       "    .dataframe tbody tr th {\n",
       "        vertical-align: top;\n",
       "    }\n",
       "\n",
       "    .dataframe thead th {\n",
       "        text-align: right;\n",
       "    }\n",
       "</style>\n",
       "<table border=\"1\" class=\"dataframe\">\n",
       "  <thead>\n",
       "    <tr style=\"text-align: right;\">\n",
       "      <th></th>\n",
       "      <th>Interval start</th>\n",
       "      <th>Interval end</th>\n",
       "      <th>Absolute frequency</th>\n",
       "      <th>Relative frequency</th>\n",
       "    </tr>\n",
       "  </thead>\n",
       "  <tbody>\n",
       "    <tr>\n",
       "      <th>0</th>\n",
       "      <td>13</td>\n",
       "      <td>105</td>\n",
       "      <td>2</td>\n",
       "      <td>0.10</td>\n",
       "    </tr>\n",
       "    <tr>\n",
       "      <th>1</th>\n",
       "      <td>105</td>\n",
       "      <td>197</td>\n",
       "      <td>2</td>\n",
       "      <td>0.10</td>\n",
       "    </tr>\n",
       "    <tr>\n",
       "      <th>2</th>\n",
       "      <td>198</td>\n",
       "      <td>290</td>\n",
       "      <td>2</td>\n",
       "      <td>0.10</td>\n",
       "    </tr>\n",
       "    <tr>\n",
       "      <th>3</th>\n",
       "      <td>290</td>\n",
       "      <td>382</td>\n",
       "      <td>1</td>\n",
       "      <td>0.05</td>\n",
       "    </tr>\n",
       "    <tr>\n",
       "      <th>4</th>\n",
       "      <td>382</td>\n",
       "      <td>474</td>\n",
       "      <td>1</td>\n",
       "      <td>0.05</td>\n",
       "    </tr>\n",
       "    <tr>\n",
       "      <th>5</th>\n",
       "      <td>474</td>\n",
       "      <td>566</td>\n",
       "      <td>3</td>\n",
       "      <td>0.15</td>\n",
       "    </tr>\n",
       "    <tr>\n",
       "      <th>6</th>\n",
       "      <td>567</td>\n",
       "      <td>659</td>\n",
       "      <td>2</td>\n",
       "      <td>0.10</td>\n",
       "    </tr>\n",
       "    <tr>\n",
       "      <th>7</th>\n",
       "      <td>659</td>\n",
       "      <td>751</td>\n",
       "      <td>3</td>\n",
       "      <td>0.15</td>\n",
       "    </tr>\n",
       "    <tr>\n",
       "      <th>8</th>\n",
       "      <td>751</td>\n",
       "      <td>843</td>\n",
       "      <td>1</td>\n",
       "      <td>0.05</td>\n",
       "    </tr>\n",
       "    <tr>\n",
       "      <th>9</th>\n",
       "      <td>844</td>\n",
       "      <td>936</td>\n",
       "      <td>3</td>\n",
       "      <td>0.15</td>\n",
       "    </tr>\n",
       "  </tbody>\n",
       "</table>\n",
       "</div>"
      ],
      "text/plain": [
       "   Interval start  Interval end  Absolute frequency  Relative frequency\n",
       "0              13           105                   2                0.10\n",
       "1             105           197                   2                0.10\n",
       "2             198           290                   2                0.10\n",
       "3             290           382                   1                0.05\n",
       "4             382           474                   1                0.05\n",
       "5             474           566                   3                0.15\n",
       "6             567           659                   2                0.10\n",
       "7             659           751                   3                0.15\n",
       "8             751           843                   1                0.05\n",
       "9             844           936                   3                0.15"
      ]
     },
     "execution_count": 9,
     "metadata": {},
     "output_type": "execute_result"
    }
   ],
   "source": [
    "frequency_distribution_table = pd.DataFrame({\"Interval start\": interval_start, \"Interval end\": interval_end, \"Absolute frequency\": absolute_frequency, \"Relative frequency\": relative_frequency})\n",
    "frequency_distribution_table"
   ]
  },
  {
   "cell_type": "code",
   "execution_count": 10,
   "id": "f6f9137a-de20-4085-82f4-7f0e5911bece",
   "metadata": {},
   "outputs": [],
   "source": [
    "interval_start = frequency_distribution_table['Interval start']\n",
    "interval_end = frequency_distribution_table['Interval end']\n",
    "absolute_frequenty = frequency_distribution_table['Absolute frequency']\n"
   ]
  },
  {
   "cell_type": "code",
   "execution_count": 16,
   "id": "aa174c98-4ecb-460a-9e24-9963761234ac",
   "metadata": {},
   "outputs": [
    {
     "data": {
      "image/png": "[encoded data removed]",
      "text/plain": [
       "<Figure size 640x480 with 1 Axes>"
      ]
     },
     "metadata": {},
     "output_type": "display_data"
    }
   ],
   "source": [
    "plt.bar(x = interval_start, height = absolute_frequency, width = interval_end - interval_start, align = 'edge', linewidth = 0.5, edgecolor = 'black')\n",
    "plt.xticks(interval_start)\n",
    "plt.show()"
   ]
  },
  {
   "cell_type": "code",
   "execution_count": null,
   "id": "6b001f4e-fa9f-4b91-8614-eb6c3ed924bf",
   "metadata": {},
   "outputs": [],
   "source": []
  }
 ],
 "metadata": {
  "kernelspec": {
   "display_name": "Python 3 (ipykernel)",
   "language": "python",
   "name": "python3"
  },
  "language_info": {
   "codemirror_mode": {
    "name": "ipython",
    "version": 3
   },
   "file_extension": ".py",
   "mimetype": "text/x-python",
   "name": "python",
   "nbconvert_exporter": "python",
   "pygments_lexer": "ipython3",
   "version": "3.11.7"
  }
 },
 "nbformat": 4,
 "nbformat_minor": 5
}
