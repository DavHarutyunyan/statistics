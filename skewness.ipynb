{
 "cells": [
  {
   "cell_type": "code",
   "execution_count": 52,
   "id": "26111e12-4fb3-40ac-9b04-c3dcbe12d843",
   "metadata": {},
   "outputs": [],
   "source": [
    "import numpy as np\n",
    "import pandas as pd\n",
    "import matplotlib.pyplot as plt"
   ]
  },
  {
   "cell_type": "code",
   "execution_count": 53,
   "id": "71208988-dcf3-4f59-90d9-ced1004785d8",
   "metadata": {},
   "outputs": [],
   "source": [
    "df1 = pd.read_csv('skewness1.csv')\n",
    "df2 = pd.read_csv('skewness2.csv')\n",
    "\n",
    "ds1 = df1['Dataset 1']\n",
    "ds2 = df2['Dataset 2']"
   ]
  },
  {
   "cell_type": "code",
   "execution_count": 54,
   "id": "b2d75860-da7b-4b80-b9e0-1ef3719cf2d0",
   "metadata": {},
   "outputs": [],
   "source": [
    "from scipy.stats import skew\n",
    "skewness1 = skew(ds1)"
   ]
  },
  {
   "cell_type": "code",
   "execution_count": 55,
   "id": "9cdfeeb2-6226-4179-9b4c-7d5f5ee72fd0",
   "metadata": {},
   "outputs": [
    {
     "data": {
      "text/plain": [
       "0.5989899189900592"
      ]
     },
     "execution_count": 55,
     "metadata": {},
     "output_type": "execute_result"
    }
   ],
   "source": [
    "skewness1"
   ]
  },
  {
   "cell_type": "code",
   "execution_count": 56,
   "id": "e2dbc79f-24ec-481b-92b9-ba1c2e45a82d",
   "metadata": {},
   "outputs": [
    {
     "data": {
      "text/plain": [
       "<BarContainer object of 30 artists>"
      ]
     },
     "execution_count": 56,
     "metadata": {},
     "output_type": "execute_result"
    },
    {
     "data": {
      "image/png": "[encoded data removed]",
      "text/plain": [
       "<Figure size 640x480 with 1 Axes>"
      ]
     },
     "metadata": {},
     "output_type": "display_data"
    }
   ],
   "source": [
    "plt.bar(range(len(ds1)), ds1, width = 2)"
   ]
  },
  {
   "cell_type": "code",
   "execution_count": 57,
   "id": "f829f712-f7f6-4c3e-a1a5-f97d385ce90e",
   "metadata": {},
   "outputs": [
    {
     "data": {
      "text/plain": [
       "-0.3518456841967886"
      ]
     },
     "execution_count": 57,
     "metadata": {},
     "output_type": "execute_result"
    }
   ],
   "source": [
    "skewness2 = skew(ds2)\n",
    "skewness2"
   ]
  },
  {
   "cell_type": "code",
   "execution_count": 61,
   "id": "a3e09f04-44bc-4d48-843b-d713fa8418fd",
   "metadata": {},
   "outputs": [
    {
     "ename": "TypeError",
     "evalue": "unsupported operand type(s) for /: 'range' and 'int'",
     "output_type": "error",
     "traceback": [
      "\u001b[1;31m---------------------------------------------------------------------------\u001b[0m",
      "\u001b[1;31mTypeError\u001b[0m                                 Traceback (most recent call last)",
      "Cell \u001b[1;32mIn[61], line 1\u001b[0m\n\u001b[1;32m----> 1\u001b[0m plt\u001b[38;5;241m.\u001b[39mbar(\u001b[38;5;28mrange\u001b[39m(\u001b[38;5;28mlen\u001b[39m(ds2))\u001b[38;5;241m/\u001b[39m\u001b[38;5;241m100\u001b[39m, ds2, width \u001b[38;5;241m=\u001b[39m \u001b[38;5;241m2\u001b[39m)\n",
      "\u001b[1;31mTypeError\u001b[0m: unsupported operand type(s) for /: 'range' and 'int'"
     ]
    }
   ],
   "source": [
    "plt.bar((range(len(ds2))/100), ds2, width = 2)"
   ]
  },
  {
   "cell_type": "code",
   "execution_count": null,
   "id": "bb9ef022-b105-4900-8b1c-eef0f055b3ff",
   "metadata": {},
   "outputs": [],
   "source": []
  }
 ],
 "metadata": {
  "kernelspec": {
   "display_name": "Python 3 (ipykernel)",
   "language": "python",
   "name": "python3"
  },
  "language_info": {
   "codemirror_mode": {
    "name": "ipython",
    "version": 3
   },
   "file_extension": ".py",
   "mimetype": "text/x-python",
   "name": "python",
   "nbconvert_exporter": "python",
   "pygments_lexer": "ipython3",
   "version": "3.11.7"
  }
 },
 "nbformat": 4,
 "nbformat_minor": 5
}
