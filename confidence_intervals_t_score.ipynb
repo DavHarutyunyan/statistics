{
 "cells": [
  {
   "cell_type": "code",
   "execution_count": 1,
   "id": "be1cdfbd-6a47-4338-a3a9-2b1e7d3c9f38",
   "metadata": {},
   "outputs": [],
   "source": [
    "import pandas as pd\n",
    "import numpy as np"
   ]
  },
  {
   "cell_type": "code",
   "execution_count": 15,
   "id": "1223c627-6e55-4994-9a5e-d2880e70ede0",
   "metadata": {},
   "outputs": [
    {
     "data": {
      "text/html": [
       "<div>\n",
       "<style scoped>\n",
       "    .dataframe tbody tr th:only-of-type {\n",
       "        vertical-align: middle;\n",
       "    }\n",
       "\n",
       "    .dataframe tbody tr th {\n",
       "        vertical-align: top;\n",
       "    }\n",
       "\n",
       "    .dataframe thead th {\n",
       "        text-align: right;\n",
       "    }\n",
       "</style>\n",
       "<table border=\"1\" class=\"dataframe\">\n",
       "  <thead>\n",
       "    <tr style=\"text-align: right;\">\n",
       "      <th></th>\n",
       "      <th>Dataset</th>\n",
       "    </tr>\n",
       "  </thead>\n",
       "  <tbody>\n",
       "    <tr>\n",
       "      <th>0</th>\n",
       "      <td>78000.0</td>\n",
       "    </tr>\n",
       "    <tr>\n",
       "      <th>1</th>\n",
       "      <td>90000.0</td>\n",
       "    </tr>\n",
       "    <tr>\n",
       "      <th>2</th>\n",
       "      <td>75000.0</td>\n",
       "    </tr>\n",
       "    <tr>\n",
       "      <th>3</th>\n",
       "      <td>117000.0</td>\n",
       "    </tr>\n",
       "    <tr>\n",
       "      <th>4</th>\n",
       "      <td>105000.0</td>\n",
       "    </tr>\n",
       "    <tr>\n",
       "      <th>5</th>\n",
       "      <td>96000.0</td>\n",
       "    </tr>\n",
       "    <tr>\n",
       "      <th>6</th>\n",
       "      <td>89500.0</td>\n",
       "    </tr>\n",
       "    <tr>\n",
       "      <th>7</th>\n",
       "      <td>102300.0</td>\n",
       "    </tr>\n",
       "    <tr>\n",
       "      <th>8</th>\n",
       "      <td>80000.0</td>\n",
       "    </tr>\n",
       "  </tbody>\n",
       "</table>\n",
       "</div>"
      ],
      "text/plain": [
       "    Dataset\n",
       "0   78000.0\n",
       "1   90000.0\n",
       "2   75000.0\n",
       "3  117000.0\n",
       "4  105000.0\n",
       "5   96000.0\n",
       "6   89500.0\n",
       "7  102300.0\n",
       "8   80000.0"
      ]
     },
     "execution_count": 15,
     "metadata": {},
     "output_type": "execute_result"
    }
   ],
   "source": [
    "df = pd.read_csv('dataset.csv', sep = '\\t')\n",
    "df['Dataset'] = df['Dataset'].str.replace('$', '')\n",
    "df['Dataset'] = df['Dataset'].str.replace(',', '')\n",
    "df['Dataset'] = df['Dataset'].astype(float)\n",
    "df"
   ]
  },
  {
   "cell_type": "code",
   "execution_count": 22,
   "id": "9048c07f-2520-4303-ace9-2420f7b13c2e",
   "metadata": {},
   "outputs": [],
   "source": [
    "salary_sample = df['Dataset'].values"
   ]
  },
  {
   "cell_type": "code",
   "execution_count": 23,
   "id": "df866e1f-0377-4afd-9f5a-4226a9883c86",
   "metadata": {},
   "outputs": [],
   "source": [
    "salary_sample_mean = round(np.sum(salary)/len(salary),2)"
   ]
  },
  {
   "cell_type": "code",
   "execution_count": 24,
   "id": "1f7143cc-a325-4076-9253-ee10f19efc58",
   "metadata": {},
   "outputs": [],
   "source": [
    "salary_sample_variance = round((np.sum((salary_sample-salary_sample_mean)**2/len(salary_sample)-1)),2)"
   ]
  },
  {
   "cell_type": "code",
   "execution_count": 34,
   "id": "07623551-775c-42b8-8eca-19664e65c7bb",
   "metadata": {},
   "outputs": [],
   "source": [
    "salary_sample_std = round( (pow((salary_sample_variance), 1/2)), 2)"
   ]
  },
  {
   "cell_type": "code",
   "execution_count": 36,
   "id": "8400c858-f639-46d9-9353-37746b4e1485",
   "metadata": {},
   "outputs": [],
   "source": [
    "salary_sample_standard_error = salary_sample_std/(pow((len(salary_sample)),1/2))"
   ]
  },
  {
   "cell_type": "markdown",
   "id": "15164c71-ec3f-4e46-b139-2bb41f0f55e0",
   "metadata": {},
   "source": [
    "###t-statistics formula salary_sample_mean +- (t(n-1),alpha/2)*sample_standard_error"
   ]
  },
  {
   "cell_type": "code",
   "execution_count": 45,
   "id": "9f52be49-8a42-433f-bccc-f7340144d884",
   "metadata": {},
   "outputs": [
    {
     "name": "stdout",
     "output_type": "stream",
     "text": [
      "salary sample mean =  92533.33\n",
      "salary sample variance =  172531102.11\n",
      "salary sample standard deviation =  13135.11\n",
      "salary sample standard error =  4378.37\n"
     ]
    }
   ],
   "source": [
    "print('salary sample mean = ', salary_sample_mean)\n",
    "print('salary sample variance = ', salary_sample_variance)\n",
    "print('salary sample standard deviation = ', salary_sample_std)\n",
    "print('salary sample standard error = ', salary_sample_standard_error)"
   ]
  },
  {
   "cell_type": "markdown",
   "id": "0d1077a7-9ad5-4847-98ee-2311d4a48fc6",
   "metadata": {},
   "source": [
    "###alpha/2 for 99% confidence level is 0.01/2 = 0.005\n",
    "###t for 9 samples = t8(9-1),0.005 which corresponds to value 3.355 by t-table"
   ]
  },
  {
   "cell_type": "code",
   "execution_count": 42,
   "id": "1750578e-ad6a-4b35-ab7b-787040d27fd2",
   "metadata": {},
   "outputs": [],
   "source": [
    "confidence_interval_low = round((salary_sample_mean - 3.355 * salary_sample_standard_error),2)"
   ]
  },
  {
   "cell_type": "code",
   "execution_count": 44,
   "id": "9a157c44-bdbd-4ae0-9fbd-ef64425a0108",
   "metadata": {},
   "outputs": [],
   "source": [
    "confidence_interval_up = round((salary_sample_mean+3.355*salary_sample_standard_error),2)"
   ]
  },
  {
   "cell_type": "code",
   "execution_count": 49,
   "id": "d9bd5326-bbe1-44f0-a4ec-e33a24d36984",
   "metadata": {},
   "outputs": [
    {
     "name": "stdout",
     "output_type": "stream",
     "text": [
      "confidence interval for 99% is [77843.9, 107222.76], 29378.86$ width\n"
     ]
    }
   ],
   "source": [
    "print(f'confidence interval for 99% is [{confidence_interval_low}, {confidence_interval_up}], {confidence_interval_up-confidence_interval_low}$ width')"
   ]
  },
  {
   "cell_type": "code",
   "execution_count": null,
   "id": "c9c62b9b-d5aa-4f6c-a846-66a1192df824",
   "metadata": {},
   "outputs": [],
   "source": []
  }
 ],
 "metadata": {
  "kernelspec": {
   "display_name": "Python 3 (ipykernel)",
   "language": "python",
   "name": "python3"
  },
  "language_info": {
   "codemirror_mode": {
    "name": "ipython",
    "version": 3
   },
   "file_extension": ".py",
   "mimetype": "text/x-python",
   "name": "python",
   "nbconvert_exporter": "python",
   "pygments_lexer": "ipython3",
   "version": "3.11.7"
  }
 },
 "nbformat": 4,
 "nbformat_minor": 5
}
