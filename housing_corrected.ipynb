{
 "cells": [
  {
   "cell_type": "code",
   "execution_count": 1,
   "id": "8847c64c-c7e6-4739-8114-c0b2d52727c7",
   "metadata": {},
   "outputs": [],
   "source": [
    "import numpy as np\n",
    "import pandas as pd\n",
    "import matplotlib.pyplot as plt"
   ]
  },
  {
   "cell_type": "code",
   "execution_count": 2,
   "id": "4f75be31-711f-45d7-816a-2bbfd6cbb576",
   "metadata": {},
   "outputs": [
    {
     "data": {
      "text/html": [
       "<div>\n",
       "<style scoped>\n",
       "    .dataframe tbody tr th:only-of-type {\n",
       "        vertical-align: middle;\n",
       "    }\n",
       "\n",
       "    .dataframe tbody tr th {\n",
       "        vertical-align: top;\n",
       "    }\n",
       "\n",
       "    .dataframe thead th {\n",
       "        text-align: right;\n",
       "    }\n",
       "</style>\n",
       "<table border=\"1\" class=\"dataframe\">\n",
       "  <thead>\n",
       "    <tr style=\"text-align: right;\">\n",
       "      <th></th>\n",
       "      <th>ID</th>\n",
       "      <th>Building</th>\n",
       "      <th>Year of sale</th>\n",
       "      <th>Month of sale</th>\n",
       "      <th>Type of property</th>\n",
       "      <th>Property #</th>\n",
       "      <th>Area (ft.)</th>\n",
       "      <th>Price</th>\n",
       "      <th>Status</th>\n",
       "    </tr>\n",
       "  </thead>\n",
       "  <tbody>\n",
       "    <tr>\n",
       "      <th>0</th>\n",
       "      <td>1030</td>\n",
       "      <td>1</td>\n",
       "      <td>2005.0</td>\n",
       "      <td>11.0</td>\n",
       "      <td>Apartment</td>\n",
       "      <td>30</td>\n",
       "      <td>743.09</td>\n",
       "      <td>$246,172.68</td>\n",
       "      <td>Sold</td>\n",
       "    </tr>\n",
       "    <tr>\n",
       "      <th>1</th>\n",
       "      <td>1029</td>\n",
       "      <td>1</td>\n",
       "      <td>2005.0</td>\n",
       "      <td>10.0</td>\n",
       "      <td>Apartment</td>\n",
       "      <td>29</td>\n",
       "      <td>756.21</td>\n",
       "      <td>$246,331.90</td>\n",
       "      <td>Sold</td>\n",
       "    </tr>\n",
       "    <tr>\n",
       "      <th>2</th>\n",
       "      <td>2002</td>\n",
       "      <td>2</td>\n",
       "      <td>2007.0</td>\n",
       "      <td>7.0</td>\n",
       "      <td>Apartment</td>\n",
       "      <td>2</td>\n",
       "      <td>587.28</td>\n",
       "      <td>$209,280.91</td>\n",
       "      <td>Sold</td>\n",
       "    </tr>\n",
       "    <tr>\n",
       "      <th>3</th>\n",
       "      <td>2031</td>\n",
       "      <td>2</td>\n",
       "      <td>2007.0</td>\n",
       "      <td>12.0</td>\n",
       "      <td>Apartment</td>\n",
       "      <td>31</td>\n",
       "      <td>1604.75</td>\n",
       "      <td>$452,667.01</td>\n",
       "      <td>Sold</td>\n",
       "    </tr>\n",
       "    <tr>\n",
       "      <th>4</th>\n",
       "      <td>1049</td>\n",
       "      <td>1</td>\n",
       "      <td>2004.0</td>\n",
       "      <td>11.0</td>\n",
       "      <td>Apartment</td>\n",
       "      <td>49</td>\n",
       "      <td>1375.45</td>\n",
       "      <td>$467,083.31</td>\n",
       "      <td>Sold</td>\n",
       "    </tr>\n",
       "  </tbody>\n",
       "</table>\n",
       "</div>"
      ],
      "text/plain": [
       "     ID  Building  Year of sale  Month of sale Type of property  Property #  \\\n",
       "0  1030         1        2005.0           11.0        Apartment          30   \n",
       "1  1029         1        2005.0           10.0        Apartment          29   \n",
       "2  2002         2        2007.0            7.0        Apartment           2   \n",
       "3  2031         2        2007.0           12.0        Apartment          31   \n",
       "4  1049         1        2004.0           11.0        Apartment          49   \n",
       "\n",
       "   Area (ft.)          Price  Status  \n",
       "0      743.09   $246,172.68    Sold   \n",
       "1      756.21   $246,331.90    Sold   \n",
       "2      587.28   $209,280.91    Sold   \n",
       "3     1604.75   $452,667.01    Sold   \n",
       "4     1375.45   $467,083.31    Sold   "
      ]
     },
     "execution_count": 2,
     "metadata": {},
     "output_type": "execute_result"
    }
   ],
   "source": [
    "df_product = pd.read_csv('california_product.csv', delimiter = '\\t')\n",
    "prices = df_product['Price']\n",
    "area = df_product['Area (ft.)']\n",
    "prices = prices.str.replace('$', '')\n",
    "prices = prices.str.replace(',', '')\n",
    "prices = prices.astype(float)\n",
    "df_product.head()"
   ]
  },
  {
   "cell_type": "code",
   "execution_count": 3,
   "id": "901ac190-fc78-4fea-b750-80e456313460",
   "metadata": {},
   "outputs": [
    {
     "data": {
      "text/html": [
       "<div>\n",
       "<style scoped>\n",
       "    .dataframe tbody tr th:only-of-type {\n",
       "        vertical-align: middle;\n",
       "    }\n",
       "\n",
       "    .dataframe tbody tr th {\n",
       "        vertical-align: top;\n",
       "    }\n",
       "\n",
       "    .dataframe thead th {\n",
       "        text-align: right;\n",
       "    }\n",
       "</style>\n",
       "<table border=\"1\" class=\"dataframe\">\n",
       "  <thead>\n",
       "    <tr style=\"text-align: right;\">\n",
       "      <th></th>\n",
       "      <th>Customer ID</th>\n",
       "      <th>Entity</th>\n",
       "      <th>Name</th>\n",
       "      <th>Surname</th>\n",
       "      <th>Age at time of purchase</th>\n",
       "      <th>Interval</th>\n",
       "      <th>Y</th>\n",
       "      <th>M</th>\n",
       "      <th>D</th>\n",
       "      <th>Gender</th>\n",
       "      <th>Country</th>\n",
       "      <th>State</th>\n",
       "      <th>Purpose</th>\n",
       "      <th>Deal satisfaction</th>\n",
       "      <th>Mortgage</th>\n",
       "      <th>Source</th>\n",
       "    </tr>\n",
       "  </thead>\n",
       "  <tbody>\n",
       "    <tr>\n",
       "      <th>0</th>\n",
       "      <td>C0028</td>\n",
       "      <td>Individual</td>\n",
       "      <td>Madalyn</td>\n",
       "      <td>Mercer</td>\n",
       "      <td>19</td>\n",
       "      <td>18-25</td>\n",
       "      <td>1986.0</td>\n",
       "      <td>6.0</td>\n",
       "      <td>21.0</td>\n",
       "      <td>F</td>\n",
       "      <td>USA</td>\n",
       "      <td>California</td>\n",
       "      <td>Home</td>\n",
       "      <td>5.0</td>\n",
       "      <td>No</td>\n",
       "      <td>Website</td>\n",
       "    </tr>\n",
       "    <tr>\n",
       "      <th>1</th>\n",
       "      <td>C0027</td>\n",
       "      <td>Individual</td>\n",
       "      <td>Lara</td>\n",
       "      <td>Carrillo</td>\n",
       "      <td>22</td>\n",
       "      <td>18-25</td>\n",
       "      <td>1983.0</td>\n",
       "      <td>2.0</td>\n",
       "      <td>24.0</td>\n",
       "      <td>F</td>\n",
       "      <td>USA</td>\n",
       "      <td>California</td>\n",
       "      <td>Home</td>\n",
       "      <td>5.0</td>\n",
       "      <td>No</td>\n",
       "      <td>Website</td>\n",
       "    </tr>\n",
       "    <tr>\n",
       "      <th>2</th>\n",
       "      <td>C0112</td>\n",
       "      <td>Individual</td>\n",
       "      <td>Donavan</td>\n",
       "      <td>Flowers</td>\n",
       "      <td>22</td>\n",
       "      <td>18-25</td>\n",
       "      <td>1985.0</td>\n",
       "      <td>12.0</td>\n",
       "      <td>27.0</td>\n",
       "      <td>M</td>\n",
       "      <td>USA</td>\n",
       "      <td>California</td>\n",
       "      <td>Home</td>\n",
       "      <td>1.0</td>\n",
       "      <td>Yes</td>\n",
       "      <td>Client</td>\n",
       "    </tr>\n",
       "    <tr>\n",
       "      <th>3</th>\n",
       "      <td>C0160</td>\n",
       "      <td>Individual</td>\n",
       "      <td>Darien</td>\n",
       "      <td>Dorsey</td>\n",
       "      <td>22</td>\n",
       "      <td>18-25</td>\n",
       "      <td>1985.0</td>\n",
       "      <td>12.0</td>\n",
       "      <td>27.0</td>\n",
       "      <td>M</td>\n",
       "      <td>USA</td>\n",
       "      <td>California</td>\n",
       "      <td>Investment</td>\n",
       "      <td>3.0</td>\n",
       "      <td>Yes</td>\n",
       "      <td>Website</td>\n",
       "    </tr>\n",
       "    <tr>\n",
       "      <th>4</th>\n",
       "      <td>C0014</td>\n",
       "      <td>Individual</td>\n",
       "      <td>Alessandra</td>\n",
       "      <td>Perry</td>\n",
       "      <td>25</td>\n",
       "      <td>18-25</td>\n",
       "      <td>1979.0</td>\n",
       "      <td>5.0</td>\n",
       "      <td>15.0</td>\n",
       "      <td>F</td>\n",
       "      <td>USA</td>\n",
       "      <td>California</td>\n",
       "      <td>Home</td>\n",
       "      <td>4.0</td>\n",
       "      <td>No</td>\n",
       "      <td>Agency</td>\n",
       "    </tr>\n",
       "  </tbody>\n",
       "</table>\n",
       "</div>"
      ],
      "text/plain": [
       "  Customer ID      Entity        Name   Surname Age at time of purchase  \\\n",
       "0       C0028  Individual     Madalyn    Mercer                      19   \n",
       "1       C0027  Individual        Lara  Carrillo                      22   \n",
       "2       C0112  Individual     Donavan   Flowers                      22   \n",
       "3       C0160  Individual      Darien    Dorsey                      22   \n",
       "4       C0014  Individual  Alessandra     Perry                      25   \n",
       "\n",
       "  Interval       Y     M     D Gender Country       State     Purpose  \\\n",
       "0    18-25  1986.0   6.0  21.0      F     USA  California        Home   \n",
       "1    18-25  1983.0   2.0  24.0      F     USA  California        Home   \n",
       "2    18-25  1985.0  12.0  27.0      M     USA  California        Home   \n",
       "3    18-25  1985.0  12.0  27.0      M     USA  California  Investment   \n",
       "4    18-25  1979.0   5.0  15.0      F     USA  California        Home   \n",
       "\n",
       "   Deal satisfaction Mortgage   Source  \n",
       "0                5.0       No  Website  \n",
       "1                5.0       No  Website  \n",
       "2                1.0      Yes   Client  \n",
       "3                3.0      Yes  Website  \n",
       "4                4.0       No   Agency  "
      ]
     },
     "execution_count": 3,
     "metadata": {},
     "output_type": "execute_result"
    }
   ],
   "source": [
    "df_customer = pd.read_csv('california_customer.csv', delimiter = '\\t')\n",
    "df_country = df_customer['Country']\n",
    "df_customer.head()"
   ]
  },
  {
   "cell_type": "markdown",
   "id": "af8335b7-af39-40e7-bc90-56c0ccbb1879",
   "metadata": {},
   "source": [
    "Frequency distribution graph (that is a histogram with the highest possible number of bins )."
   ]
  },
  {
   "cell_type": "code",
   "execution_count": 4,
   "id": "2c4bd49b-06ba-4d9d-b566-e3b3b3dbda3b",
   "metadata": {},
   "outputs": [
    {
     "data": {
      "image/png": "[encoded data removed]",
      "text/plain": [
       "<Figure size 1800x600 with 1 Axes>"
      ]
     },
     "metadata": {},
     "output_type": "display_data"
    }
   ],
   "source": [
    "fig, ax = plt.subplots(figsize=(18,6))\n",
    "\n",
    "bins = len(df_product)\n",
    "num_ticks = 100  \n",
    "\n",
    "ticks = np.linspace(\n",
    "    prices.min(), \n",
    "    prices.max(), \n",
    "    num_ticks\n",
    ")\n",
    "\n",
    "ax.hist(\n",
    "    prices, \n",
    "    bins = bins, \n",
    "    color = 'skyblue', \n",
    "    edgecolor = 'black'\n",
    ")\n",
    "ax.set_xticks(ticks)\n",
    "ax.set_xticklabels(['${:,.0f}'.format(t) for t in ticks], rotation = 90)\n",
    "\n",
    "ax.set_xlabel('Price')\n",
    "ax.set_ylabel('Frequency')\n",
    "ax.set_title('Frequency Distribution of Property Prices')\n",
    "\n",
    "plt.show()"
   ]
  },
  {
   "cell_type": "markdown",
   "id": "087591bc-1cb2-4f94-bedc-5d5618e67c2f",
   "metadata": {},
   "source": [
    "#Histogram which represents the Price variable. Choose interval width (bins) of length $100,000."
   ]
  },
  {
   "cell_type": "markdown",
   "id": "24b2e5ef-207d-41d0-b71b-d32b9c9efd19",
   "metadata": {},
   "source": [
    "#Most of the properties' prices are concentrated in the interval ($217,564.07 to 317,564.07)"
   ]
  },
  {
   "cell_type": "code",
   "execution_count": 5,
   "id": "f0806bd5-be5b-4c10-95cc-d8446bb6187c",
   "metadata": {},
   "outputs": [
    {
     "data": {
      "image/png": "[encoded data removed]",
      "text/plain": [
       "<Figure size 640x480 with 1 Axes>"
      ]
     },
     "metadata": {},
     "output_type": "display_data"
    }
   ],
   "source": [
    "fig, ax1 = plt.subplots()\n",
    "bins1 = int(prices.max()/100000)\n",
    "num_ticks1 = bins1\n",
    "ticks1 = [prices.min() + i * 100000 for i in range(num_ticks1)] \n",
    "\n",
    "ax1.hist(\n",
    "    prices, \n",
    "    bins = bins1, \n",
    "    color = 'skyblue', \n",
    "    edgecolor = 'black'\n",
    ")\n",
    "ax1.set_xticks(ticks1)\n",
    "plt.xticks(rotation = 45)\n",
    "\n",
    "ax1.set_xlabel('Price')\n",
    "ax1.set_ylabel('Frequency')\n",
    "ax1.set_title('Frequency Distribution of Property Prices of length 100000$')\n",
    "\n",
    "plt.show()"
   ]
  },
  {
   "cell_type": "markdown",
   "id": "85ae86ff-237c-41d3-abb1-09bca3b7bec4",
   "metadata": {},
   "source": [
    "#Scatter plot showing the relationship between Price and Area."
   ]
  },
  {
   "cell_type": "markdown",
   "id": "f4b3e971-fc84-4ecb-a25b-de7c6630f042",
   "metadata": {},
   "source": [
    "#The scatter plot shows a very strong linear relationship between Price and Area. This was to be expected as often RE companies price their property per square foot."
   ]
  },
  {
   "cell_type": "code",
   "execution_count": 6,
   "id": "eeff5f81-788a-4650-9692-4386978590da",
   "metadata": {},
   "outputs": [
    {
     "data": {
      "image/png": "[encoded data removed]",
      "text/plain": [
       "<Figure size 640x480 with 1 Axes>"
      ]
     },
     "metadata": {},
     "output_type": "display_data"
    }
   ],
   "source": [
    "fig, ax2 = plt.subplots()\n",
    "ax2.scatter(area, prices)\n",
    "\n",
    "ax2.set_xlabel('Area (ft.)')\n",
    "ax2.set_ylabel('Price ($)')\n",
    "ax2.set_title('Relationship between Price and Area')\n",
    "\n",
    "plt.show()"
   ]
  },
  {
   "cell_type": "markdown",
   "id": "de66a18e-012c-414f-b46c-299eb244c3ec",
   "metadata": {},
   "source": [
    "#frequency distribution table, where listed all the countries from which the company has buyers. Counted the absolute frequency, the relative frequency and the cumulative frequency. "
   ]
  },
  {
   "cell_type": "code",
   "execution_count": 7,
   "id": "eff937f8-2c4d-4f8f-a357-474fd245cf33",
   "metadata": {},
   "outputs": [],
   "source": [
    "frequency = df_country.value_counts().values\n",
    "country = df_country.value_counts().index.tolist()\n",
    "\n",
    "relative_frequency = (frequency/frequency.sum())*100\n",
    "relative_frequency_percent = [f'{round(per)} %' for per in relative_frequency]\n",
    "cumulative_frequency = frequency.cumsum()\n",
    "cumulative_frequency_percent = [f'{round(per/frequency.sum()*100)} %' for per in cumulative_frequency]"
   ]
  },
  {
   "cell_type": "code",
   "execution_count": 8,
   "id": "7f4a617b-17ed-48c2-a946-34486183bb6d",
   "metadata": {},
   "outputs": [],
   "source": [
    "columns = ['Country', 'Frequency', 'Relative frequency', 'Cumulative frequency']"
   ]
  },
  {
   "cell_type": "code",
   "execution_count": 9,
   "id": "af5867da-a022-48c7-afd9-4964a0386c0d",
   "metadata": {},
   "outputs": [],
   "source": [
    "frequency_table_data = list(zip(country, \n",
    "                frequency, \n",
    "                relative_frequency_percent, \n",
    "                cumulative_frequency_percent\n",
    "               ))\n",
    "df_frequency = pd.DataFrame(frequency_table_data, columns = columns)"
   ]
  },
  {
   "cell_type": "code",
   "execution_count": 10,
   "id": "50d03f6e-94ed-4640-bbfb-b8389ef911b0",
   "metadata": {},
   "outputs": [
    {
     "data": {
      "text/html": [
       "<div>\n",
       "<style scoped>\n",
       "    .dataframe tbody tr th:only-of-type {\n",
       "        vertical-align: middle;\n",
       "    }\n",
       "\n",
       "    .dataframe tbody tr th {\n",
       "        vertical-align: top;\n",
       "    }\n",
       "\n",
       "    .dataframe thead th {\n",
       "        text-align: right;\n",
       "    }\n",
       "</style>\n",
       "<table border=\"1\" class=\"dataframe\">\n",
       "  <thead>\n",
       "    <tr style=\"text-align: right;\">\n",
       "      <th></th>\n",
       "      <th>Country</th>\n",
       "      <th>Frequency</th>\n",
       "      <th>Relative frequency</th>\n",
       "      <th>Cumulative frequency</th>\n",
       "    </tr>\n",
       "  </thead>\n",
       "  <tbody>\n",
       "    <tr>\n",
       "      <th>0</th>\n",
       "      <td>USA</td>\n",
       "      <td>177</td>\n",
       "      <td>91 %</td>\n",
       "      <td>91 %</td>\n",
       "    </tr>\n",
       "    <tr>\n",
       "      <th>1</th>\n",
       "      <td>Canada</td>\n",
       "      <td>7</td>\n",
       "      <td>4 %</td>\n",
       "      <td>94 %</td>\n",
       "    </tr>\n",
       "    <tr>\n",
       "      <th>2</th>\n",
       "      <td>Russia</td>\n",
       "      <td>4</td>\n",
       "      <td>2 %</td>\n",
       "      <td>96 %</td>\n",
       "    </tr>\n",
       "    <tr>\n",
       "      <th>3</th>\n",
       "      <td>UK</td>\n",
       "      <td>2</td>\n",
       "      <td>1 %</td>\n",
       "      <td>97 %</td>\n",
       "    </tr>\n",
       "    <tr>\n",
       "      <th>4</th>\n",
       "      <td>Belgium</td>\n",
       "      <td>2</td>\n",
       "      <td>1 %</td>\n",
       "      <td>98 %</td>\n",
       "    </tr>\n",
       "    <tr>\n",
       "      <th>5</th>\n",
       "      <td>Denmark</td>\n",
       "      <td>1</td>\n",
       "      <td>1 %</td>\n",
       "      <td>99 %</td>\n",
       "    </tr>\n",
       "    <tr>\n",
       "      <th>6</th>\n",
       "      <td>Germany</td>\n",
       "      <td>1</td>\n",
       "      <td>1 %</td>\n",
       "      <td>99 %</td>\n",
       "    </tr>\n",
       "    <tr>\n",
       "      <th>7</th>\n",
       "      <td>Mexico</td>\n",
       "      <td>1</td>\n",
       "      <td>1 %</td>\n",
       "      <td>100 %</td>\n",
       "    </tr>\n",
       "  </tbody>\n",
       "</table>\n",
       "</div>"
      ],
      "text/plain": [
       "   Country  Frequency Relative frequency Cumulative frequency\n",
       "0      USA        177               91 %                 91 %\n",
       "1   Canada          7                4 %                 94 %\n",
       "2   Russia          4                2 %                 96 %\n",
       "3       UK          2                1 %                 97 %\n",
       "4  Belgium          2                1 %                 98 %\n",
       "5  Denmark          1                1 %                 99 %\n",
       "6  Germany          1                1 %                 99 %\n",
       "7   Mexico          1                1 %                100 %"
      ]
     },
     "execution_count": 10,
     "metadata": {},
     "output_type": "execute_result"
    }
   ],
   "source": [
    "df_frequency"
   ]
  },
  {
   "cell_type": "markdown",
   "id": "78b989de-9368-4d11-a44f-4b5cbf9e3670",
   "metadata": {},
   "source": [
    "#Pareto diagram representing the data."
   ]
  },
  {
   "cell_type": "code",
   "execution_count": 11,
   "id": "9c725479-5656-4479-b495-c6efce0d1f9d",
   "metadata": {},
   "outputs": [
    {
     "data": {
      "image/png": "[encoded data removed]",
      "text/plain": [
       "<Figure size 640x480 with 2 Axes>"
      ]
     },
     "metadata": {},
     "output_type": "display_data"
    }
   ],
   "source": [
    "fig, ax3 = plt.subplots()\n",
    "frequency_col = df_frequency['Frequency']\n",
    "frequency_country_col = df_frequency['Country']\n",
    "frequency_cumulative = df_frequency['Cumulative frequency']\n",
    "\n",
    "\n",
    "ax3.bar(\n",
    "    frequency_country_col, \n",
    "    height = frequency_col\n",
    ")\n",
    "\n",
    "plt.xticks(rotation=30)\n",
    "\n",
    "ax3.set_xlabel('Countries')\n",
    "ax3.set_ylabel('Frequency')\n",
    "fig.suptitle('Pareto Diagram of Product Frequencies')\n",
    "\n",
    "ax4 = ax3.twinx()\n",
    "ax4.plot(\n",
    "    frequency_country_col, \n",
    "    frequency_cumulative, \n",
    "    color='red', \n",
    "    marker='o', \n",
    "    linestyle='-'\n",
    ")\n",
    "ax4.grid(True)\n",
    "plt.show()"
   ]
  },
  {
   "cell_type": "markdown",
   "id": "f3d90dc0-7a5e-4550-8011-8a59b66c9cf8",
   "metadata": {},
   "source": [
    "#The mean, median, mode, skewness, variance and standard deviation of Price for all properties."
   ]
  },
  {
   "cell_type": "code",
   "execution_count": 12,
   "id": "58e8db4d-1c9f-49e1-9d4a-2cb95f446645",
   "metadata": {},
   "outputs": [
    {
     "name": "stdout",
     "output_type": "stream",
     "text": [
      "270778.66\n"
     ]
    }
   ],
   "source": [
    "x_mean = round(np.mean(prices), 2)\n",
    "print(x_mean)"
   ]
  },
  {
   "cell_type": "code",
   "execution_count": 13,
   "id": "e5776166-51d4-4420-9024-eb03988154a0",
   "metadata": {},
   "outputs": [
    {
     "name": "stdout",
     "output_type": "stream",
     "text": [
      "243936.63\n"
     ]
    }
   ],
   "source": [
    "x_median = np.median(prices)\n",
    "print(x_median)"
   ]
  },
  {
   "cell_type": "code",
   "execution_count": 14,
   "id": "2ecb1a76-a0ea-4e68-80b5-e564f8d8ec08",
   "metadata": {},
   "outputs": [
    {
     "name": "stdout",
     "output_type": "stream",
     "text": [
      "ModeResult(mode=460001.26, count=2)\n"
     ]
    }
   ],
   "source": [
    "from scipy.stats import mode, skew\n",
    "\n",
    "x_mode = mode(prices)\n",
    "print(x_mode)"
   ]
  },
  {
   "cell_type": "markdown",
   "id": "fdecf052-1c1c-4e59-985a-5406e90721a6",
   "metadata": {},
   "source": [
    "#Skew is a bit tougher. The skew is right (positive). This means that most properties are relatively cheap with a tiny portion that is more expensive."
   ]
  },
  {
   "cell_type": "code",
   "execution_count": 15,
   "id": "8bc2fba3-324f-458f-aac1-402c982e115f",
   "metadata": {},
   "outputs": [
    {
     "name": "stdout",
     "output_type": "stream",
     "text": [
      "1.23\n"
     ]
    }
   ],
   "source": [
    "x_skewness = round(skew(prices), 2)\n",
    "print(x_skewness)"
   ]
  },
  {
   "cell_type": "code",
   "execution_count": 16,
   "id": "01a74875-9167-490d-ae48-9739f0a1aa36",
   "metadata": {},
   "outputs": [
    {
     "name": "stdout",
     "output_type": "stream",
     "text": [
      "6707440570.21\n"
     ]
    }
   ],
   "source": [
    "x_variance = round(np.var(prices), 2)\n",
    "print(x_variance)"
   ]
  },
  {
   "cell_type": "code",
   "execution_count": 17,
   "id": "aabb0101-99e0-492d-bbb4-e85d8e29d322",
   "metadata": {},
   "outputs": [
    {
     "name": "stdout",
     "output_type": "stream",
     "text": [
      "81898.97\n"
     ]
    }
   ],
   "source": [
    "x_std = round(pow(x_variance, 1/2), 2)\n",
    "print(x_std)"
   ]
  },
  {
   "cell_type": "code",
   "execution_count": 18,
   "id": "58b26fd6-df85-4484-8d83-da101fcb3967",
   "metadata": {},
   "outputs": [
    {
     "name": "stdout",
     "output_type": "stream",
     "text": [
      "6707440570.21\n"
     ]
    }
   ],
   "source": [
    "x_var_sum = sum([pow((x-x_mean),2) for x in prices])\n",
    "x_variance = round(x_var_sum/(len(prices)), 2)\n",
    "print(x_variance)"
   ]
  },
  {
   "cell_type": "markdown",
   "id": "9e2f2fcd-9447-43d7-85e3-c31fa4a7c3c0",
   "metadata": {},
   "source": [
    "#The covariance and correlation coefficient between Price and Area."
   ]
  },
  {
   "cell_type": "code",
   "execution_count": 19,
   "id": "9cfdd851-4fad-415a-bc61-563192cb76bf",
   "metadata": {},
   "outputs": [
    {
     "name": "stdout",
     "output_type": "stream",
     "text": [
      "20682605.49\n"
     ]
    }
   ],
   "source": [
    "y_mean = round(np.mean(area), 2)\n",
    "y_median = np.median(area)\n",
    "y_mode = mode(area)\n",
    "y_skewness = round(skew(area), 2)\n",
    "covariance_sum = sum((x-x_mean)*(y-y_mean) for x, y in zip(prices, area))\n",
    "covariance = round(covariance_sum/len(prices), 2)\n",
    "print(covariance)"
   ]
  },
  {
   "cell_type": "code",
   "execution_count": 20,
   "id": "d1973ed8-961a-4d29-a76b-ee5951c037d0",
   "metadata": {},
   "outputs": [
    {
     "name": "stdout",
     "output_type": "stream",
     "text": [
      "267.43\n"
     ]
    }
   ],
   "source": [
    "y_variance_sum = sum([pow((y-y_mean),2) for y in area])\n",
    "y_variance = round(y_variance_sum/len(area), 2)\n",
    "y_std = round(pow(y_variance, 1/2), 2)\n",
    "print(y_std)"
   ]
  },
  {
   "cell_type": "code",
   "execution_count": 21,
   "id": "daa67ce4-38ef-4e1c-b84b-c14a55e3fb29",
   "metadata": {},
   "outputs": [
    {
     "name": "stdout",
     "output_type": "stream",
     "text": [
      "0.94\n"
     ]
    }
   ],
   "source": [
    "correlation = round(covariance/(x_std*y_std), 2)\n",
    "print(correlation)"
   ]
  },
  {
   "cell_type": "code",
   "execution_count": 22,
   "id": "e9411963-1063-4b86-a07b-ec96be777c95",
   "metadata": {},
   "outputs": [],
   "source": [
    "measures_of_central_tendency = {\n",
    "    'mean': [x_mean, y_mean], \n",
    "    'median': [x_median, y_median],\n",
    "    'mode': [x_mode, y_mode],\n",
    "    'skewness': [x_skewness, y_skewness],\n",
    "    'variance': [x_variance, y_variance],\n",
    "    'standard deviation': [x_std, y_std]\n",
    "}"
   ]
  },
  {
   "cell_type": "code",
   "execution_count": 23,
   "id": "379e77e3-e7bc-4a38-87f2-0712175b54a6",
   "metadata": {},
   "outputs": [
    {
     "data": {
      "text/html": [
       "<div>\n",
       "<style scoped>\n",
       "    .dataframe tbody tr th:only-of-type {\n",
       "        vertical-align: middle;\n",
       "    }\n",
       "\n",
       "    .dataframe tbody tr th {\n",
       "        vertical-align: top;\n",
       "    }\n",
       "\n",
       "    .dataframe thead th {\n",
       "        text-align: right;\n",
       "    }\n",
       "</style>\n",
       "<table border=\"1\" class=\"dataframe\">\n",
       "  <thead>\n",
       "    <tr style=\"text-align: right;\">\n",
       "      <th></th>\n",
       "      <th>Price</th>\n",
       "      <th>Area (ft.)</th>\n",
       "    </tr>\n",
       "  </thead>\n",
       "  <tbody>\n",
       "    <tr>\n",
       "      <th>mean</th>\n",
       "      <td>270778.66</td>\n",
       "      <td>904.3</td>\n",
       "    </tr>\n",
       "    <tr>\n",
       "      <th>median</th>\n",
       "      <td>243936.63</td>\n",
       "      <td>788.01</td>\n",
       "    </tr>\n",
       "    <tr>\n",
       "      <th>mode</th>\n",
       "      <td>(460001.26, 2)</td>\n",
       "      <td>(781.07, 14)</td>\n",
       "    </tr>\n",
       "    <tr>\n",
       "      <th>skewness</th>\n",
       "      <td>1.23</td>\n",
       "      <td>1.4</td>\n",
       "    </tr>\n",
       "    <tr>\n",
       "      <th>variance</th>\n",
       "      <td>6707440570.21</td>\n",
       "      <td>71517.68</td>\n",
       "    </tr>\n",
       "    <tr>\n",
       "      <th>standard deviation</th>\n",
       "      <td>81898.97</td>\n",
       "      <td>267.43</td>\n",
       "    </tr>\n",
       "  </tbody>\n",
       "</table>\n",
       "</div>"
      ],
      "text/plain": [
       "                             Price    Area (ft.)\n",
       "mean                     270778.66         904.3\n",
       "median                   243936.63        788.01\n",
       "mode                (460001.26, 2)  (781.07, 14)\n",
       "skewness                      1.23           1.4\n",
       "variance             6707440570.21      71517.68\n",
       "standard deviation        81898.97        267.43"
      ]
     },
     "execution_count": 23,
     "metadata": {},
     "output_type": "execute_result"
    }
   ],
   "source": [
    "df = pd.DataFrame(measures_of_central_tendency).transpose()\n",
    "df = df.rename(columns= {0:'Price', 1:'Area (ft.)'})\n",
    "df"
   ]
  },
  {
   "cell_type": "code",
   "execution_count": 24,
   "id": "1b0659bb-1f4d-4c6c-9bfd-73ec26a431a9",
   "metadata": {},
   "outputs": [
    {
     "name": "stdout",
     "output_type": "stream",
     "text": [
      "covariance between Price and Area is  20682605.49\n",
      "correlation between Price and Area is  0.94\n"
     ]
    }
   ],
   "source": [
    "print('covariance between Price and Area is ', covariance)\n",
    "print('correlation between Price and Area is ', correlation)"
   ]
  },
  {
   "cell_type": "code",
   "execution_count": null,
   "id": "834938ca-bd0d-4e6c-bdc7-7f373f038bed",
   "metadata": {},
   "outputs": [],
   "source": []
  }
 ],
 "metadata": {
  "kernelspec": {
   "display_name": "Python 3 (ipykernel)",
   "language": "python",
   "name": "python3"
  },
  "language_info": {
   "codemirror_mode": {
    "name": "ipython",
    "version": 3
   },
   "file_extension": ".py",
   "mimetype": "text/x-python",
   "name": "python",
   "nbconvert_exporter": "python",
   "pygments_lexer": "ipython3",
   "version": "3.11.7"
  }
 },
 "nbformat": 4,
 "nbformat_minor": 5
}
