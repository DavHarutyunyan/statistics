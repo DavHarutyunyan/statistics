{
 "cells": [
  {
   "cell_type": "markdown",
   "id": "e4e84af4-950b-41a7-abb3-42c2f3ec01db",
   "metadata": {},
   "source": [
    "#Confidence interval for difference of two means, dependent samples\n",
    "#Weight loss example, lbs"
   ]
  },
  {
   "cell_type": "code",
   "execution_count": 1,
   "id": "4e3878ce-0d0c-4f34-b79b-ca7a26de426b",
   "metadata": {},
   "outputs": [],
   "source": [
    "import pandas as pd\n",
    "import numpy as np"
   ]
  },
  {
   "cell_type": "code",
   "execution_count": 6,
   "id": "702c0872-0011-43e3-a8d5-9b8014a355de",
   "metadata": {},
   "outputs": [
    {
     "data": {
      "text/html": [
       "<div>\n",
       "<style scoped>\n",
       "    .dataframe tbody tr th:only-of-type {\n",
       "        vertical-align: middle;\n",
       "    }\n",
       "\n",
       "    .dataframe tbody tr th {\n",
       "        vertical-align: top;\n",
       "    }\n",
       "\n",
       "    .dataframe thead th {\n",
       "        text-align: right;\n",
       "    }\n",
       "</style>\n",
       "<table border=\"1\" class=\"dataframe\">\n",
       "  <thead>\n",
       "    <tr style=\"text-align: right;\">\n",
       "      <th></th>\n",
       "      <th>Subject</th>\n",
       "      <th>Weight before (lbs)</th>\n",
       "      <th>Weight after (lbs)</th>\n",
       "      <th>Difference</th>\n",
       "    </tr>\n",
       "  </thead>\n",
       "  <tbody>\n",
       "    <tr>\n",
       "      <th>0</th>\n",
       "      <td>1</td>\n",
       "      <td>228.58</td>\n",
       "      <td>204.74</td>\n",
       "      <td>-23.83</td>\n",
       "    </tr>\n",
       "    <tr>\n",
       "      <th>1</th>\n",
       "      <td>2</td>\n",
       "      <td>244.01</td>\n",
       "      <td>223.95</td>\n",
       "      <td>-20.06</td>\n",
       "    </tr>\n",
       "    <tr>\n",
       "      <th>2</th>\n",
       "      <td>3</td>\n",
       "      <td>262.46</td>\n",
       "      <td>232.94</td>\n",
       "      <td>-29.52</td>\n",
       "    </tr>\n",
       "    <tr>\n",
       "      <th>3</th>\n",
       "      <td>4</td>\n",
       "      <td>224.32</td>\n",
       "      <td>212.04</td>\n",
       "      <td>-12.28</td>\n",
       "    </tr>\n",
       "    <tr>\n",
       "      <th>4</th>\n",
       "      <td>5</td>\n",
       "      <td>202.14</td>\n",
       "      <td>191.74</td>\n",
       "      <td>-10.41</td>\n",
       "    </tr>\n",
       "    <tr>\n",
       "      <th>5</th>\n",
       "      <td>6</td>\n",
       "      <td>246.98</td>\n",
       "      <td>233.47</td>\n",
       "      <td>-13.51</td>\n",
       "    </tr>\n",
       "    <tr>\n",
       "      <th>6</th>\n",
       "      <td>7</td>\n",
       "      <td>195.86</td>\n",
       "      <td>177.60</td>\n",
       "      <td>-18.25</td>\n",
       "    </tr>\n",
       "    <tr>\n",
       "      <th>7</th>\n",
       "      <td>8</td>\n",
       "      <td>231.88</td>\n",
       "      <td>213.85</td>\n",
       "      <td>-18.03</td>\n",
       "    </tr>\n",
       "    <tr>\n",
       "      <th>8</th>\n",
       "      <td>9</td>\n",
       "      <td>243.32</td>\n",
       "      <td>218.85</td>\n",
       "      <td>-24.47</td>\n",
       "    </tr>\n",
       "    <tr>\n",
       "      <th>9</th>\n",
       "      <td>10</td>\n",
       "      <td>266.74</td>\n",
       "      <td>236.86</td>\n",
       "      <td>-29.87</td>\n",
       "    </tr>\n",
       "  </tbody>\n",
       "</table>\n",
       "</div>"
      ],
      "text/plain": [
       "   Subject  Weight before (lbs)  Weight after (lbs)  Difference\n",
       "0        1               228.58              204.74      -23.83\n",
       "1        2               244.01              223.95      -20.06\n",
       "2        3               262.46              232.94      -29.52\n",
       "3        4               224.32              212.04      -12.28\n",
       "4        5               202.14              191.74      -10.41\n",
       "5        6               246.98              233.47      -13.51\n",
       "6        7               195.86              177.60      -18.25\n",
       "7        8               231.88              213.85      -18.03\n",
       "8        9               243.32              218.85      -24.47\n",
       "9       10               266.74              236.86      -29.87"
      ]
     },
     "execution_count": 6,
     "metadata": {},
     "output_type": "execute_result"
    }
   ],
   "source": [
    "df = pd.read_csv('weight_loss.csv', sep = '\\t')\n",
    "df"
   ]
  },
  {
   "cell_type": "code",
   "execution_count": 7,
   "id": "bad6c5fe-9ecb-49f0-9a13-1c2d49e11659",
   "metadata": {},
   "outputs": [
    {
     "name": "stdout",
     "output_type": "stream",
     "text": [
      "<class 'pandas.core.frame.DataFrame'>\n",
      "RangeIndex: 10 entries, 0 to 9\n",
      "Data columns (total 4 columns):\n",
      " #   Column               Non-Null Count  Dtype  \n",
      "---  ------               --------------  -----  \n",
      " 0   Subject              10 non-null     int64  \n",
      " 1   Weight before (lbs)  10 non-null     float64\n",
      " 2   Weight after (lbs)   10 non-null     float64\n",
      " 3   Difference           10 non-null     float64\n",
      "dtypes: float64(3), int64(1)\n",
      "memory usage: 452.0 bytes\n"
     ]
    }
   ],
   "source": [
    "df.info()"
   ]
  },
  {
   "cell_type": "markdown",
   "id": "61942aa3-5312-4794-847b-51654e0ee457",
   "metadata": {},
   "source": [
    "###Calculate the mean and standard deviation of the difference"
   ]
  },
  {
   "cell_type": "code",
   "execution_count": 9,
   "id": "df851280-2d51-4ce4-a5bf-bdc3851e22fd",
   "metadata": {},
   "outputs": [],
   "source": [
    "dif_sample = df['Difference'].values"
   ]
  },
  {
   "cell_type": "code",
   "execution_count": 10,
   "id": "e5e01edb-46a1-40e1-b9ba-efaadd128a4b",
   "metadata": {},
   "outputs": [],
   "source": [
    "dif_mean = round((np.sum(dif_sample)/len(dif_sample)),2)"
   ]
  },
  {
   "cell_type": "code",
   "execution_count": 12,
   "id": "24173eea-d48f-44d0-9ab7-5d076ccf879d",
   "metadata": {},
   "outputs": [],
   "source": [
    "dif_sample_variance = round((np.sum((dif_sample-dif_mean)**2)/(len(dif_sample)-1)),2)"
   ]
  },
  {
   "cell_type": "code",
   "execution_count": 14,
   "id": "bb916970-94b7-4bdb-81c0-f33ce14891c5",
   "metadata": {},
   "outputs": [],
   "source": [
    "dif_sample_std = round((pow((dif_sample_variance), 1/2)), 2)"
   ]
  },
  {
   "cell_type": "code",
   "execution_count": 43,
   "id": "d857126d-e775-4c73-b900-7388d157da2b",
   "metadata": {},
   "outputs": [
    {
     "data": {
      "text/plain": [
       "2.17"
      ]
     },
     "execution_count": 43,
     "metadata": {},
     "output_type": "execute_result"
    }
   ],
   "source": [
    "dif_sample_standard_error = round((dif_sample_std/pow((len(dif_sample)),1/2)),2)"
   ]
  },
  {
   "cell_type": "code",
   "execution_count": 80,
   "id": "c6c63192-d65c-4b46-a5af-82222e84a7c6",
   "metadata": {},
   "outputs": [
    {
     "name": "stdout",
     "output_type": "stream",
     "text": [
      "difference sample mean =  -20.02\n",
      "difference sample variance =  47.04\n",
      "difference sample standard deviation =  6.86\n",
      "difference sample standard error =  2.17\n"
     ]
    }
   ],
   "source": [
    "print('difference sample mean = ', dif_mean)\n",
    "print('difference sample variance = ', dif_sample_variance)\n",
    "print('difference sample standard deviation = ', dif_sample_std)\n",
    "print('difference sample standard error = ', dif_sample_standard_error)"
   ]
  },
  {
   "cell_type": "markdown",
   "id": "e1b6f688-09b0-411a-bb78-a4d593fdbcb6",
   "metadata": {},
   "source": [
    "###Determine the appropriate statistic to use\n",
    "###Population variance is unknown\n",
    "###We have a small sample\n",
    "###We assume that the population is normally distributed\n",
    "###The appropriate statistic to use is the t-statistic"
   ]
  },
  {
   "cell_type": "code",
   "execution_count": 31,
   "id": "0466bdb3-f279-4678-98e8-69b65af9c350",
   "metadata": {},
   "outputs": [
    {
     "data": {
      "text/html": [
       "<div>\n",
       "<style scoped>\n",
       "    .dataframe tbody tr th:only-of-type {\n",
       "        vertical-align: middle;\n",
       "    }\n",
       "\n",
       "    .dataframe tbody tr th {\n",
       "        vertical-align: top;\n",
       "    }\n",
       "\n",
       "    .dataframe thead th {\n",
       "        text-align: right;\n",
       "    }\n",
       "</style>\n",
       "<table border=\"1\" class=\"dataframe\">\n",
       "  <thead>\n",
       "    <tr style=\"text-align: right;\">\n",
       "      <th></th>\n",
       "      <th>d.f. / α</th>\n",
       "      <th>0.1</th>\n",
       "      <th>0.05</th>\n",
       "      <th>0.025</th>\n",
       "      <th>0.01</th>\n",
       "      <th>0.005</th>\n",
       "    </tr>\n",
       "  </thead>\n",
       "  <tbody>\n",
       "    <tr>\n",
       "      <th>0</th>\n",
       "      <td>1</td>\n",
       "      <td>3.078</td>\n",
       "      <td>6.314</td>\n",
       "      <td>12.706</td>\n",
       "      <td>31.821</td>\n",
       "      <td>63.657</td>\n",
       "    </tr>\n",
       "    <tr>\n",
       "      <th>1</th>\n",
       "      <td>2</td>\n",
       "      <td>1.886</td>\n",
       "      <td>2.920</td>\n",
       "      <td>4.303</td>\n",
       "      <td>6.965</td>\n",
       "      <td>9.925</td>\n",
       "    </tr>\n",
       "    <tr>\n",
       "      <th>2</th>\n",
       "      <td>3</td>\n",
       "      <td>1.638</td>\n",
       "      <td>2.353</td>\n",
       "      <td>3.182</td>\n",
       "      <td>4.541</td>\n",
       "      <td>5.841</td>\n",
       "    </tr>\n",
       "    <tr>\n",
       "      <th>3</th>\n",
       "      <td>4</td>\n",
       "      <td>1.533</td>\n",
       "      <td>2.132</td>\n",
       "      <td>2.776</td>\n",
       "      <td>3.747</td>\n",
       "      <td>4.604</td>\n",
       "    </tr>\n",
       "    <tr>\n",
       "      <th>4</th>\n",
       "      <td>5</td>\n",
       "      <td>1.476</td>\n",
       "      <td>2.015</td>\n",
       "      <td>2.571</td>\n",
       "      <td>3.365</td>\n",
       "      <td>4.032</td>\n",
       "    </tr>\n",
       "    <tr>\n",
       "      <th>5</th>\n",
       "      <td>6</td>\n",
       "      <td>1.440</td>\n",
       "      <td>1.943</td>\n",
       "      <td>2.447</td>\n",
       "      <td>3.143</td>\n",
       "      <td>3.707</td>\n",
       "    </tr>\n",
       "    <tr>\n",
       "      <th>6</th>\n",
       "      <td>7</td>\n",
       "      <td>1.415</td>\n",
       "      <td>1.895</td>\n",
       "      <td>2.365</td>\n",
       "      <td>2.998</td>\n",
       "      <td>3.499</td>\n",
       "    </tr>\n",
       "    <tr>\n",
       "      <th>7</th>\n",
       "      <td>8</td>\n",
       "      <td>1.397</td>\n",
       "      <td>1.860</td>\n",
       "      <td>2.306</td>\n",
       "      <td>2.896</td>\n",
       "      <td>3.355</td>\n",
       "    </tr>\n",
       "    <tr>\n",
       "      <th>8</th>\n",
       "      <td>9</td>\n",
       "      <td>1.383</td>\n",
       "      <td>1.833</td>\n",
       "      <td>2.262</td>\n",
       "      <td>2.821</td>\n",
       "      <td>3.250</td>\n",
       "    </tr>\n",
       "    <tr>\n",
       "      <th>9</th>\n",
       "      <td>10</td>\n",
       "      <td>1.372</td>\n",
       "      <td>1.812</td>\n",
       "      <td>2.228</td>\n",
       "      <td>2.764</td>\n",
       "      <td>3.169</td>\n",
       "    </tr>\n",
       "    <tr>\n",
       "      <th>10</th>\n",
       "      <td>11</td>\n",
       "      <td>1.363</td>\n",
       "      <td>1.796</td>\n",
       "      <td>2.201</td>\n",
       "      <td>2.718</td>\n",
       "      <td>3.106</td>\n",
       "    </tr>\n",
       "    <tr>\n",
       "      <th>11</th>\n",
       "      <td>12</td>\n",
       "      <td>1.356</td>\n",
       "      <td>1.782</td>\n",
       "      <td>2.179</td>\n",
       "      <td>2.681</td>\n",
       "      <td>3.055</td>\n",
       "    </tr>\n",
       "  </tbody>\n",
       "</table>\n",
       "</div>"
      ],
      "text/plain": [
       "   d.f. / α    0.1   0.05   0.025    0.01   0.005\n",
       "0         1  3.078  6.314  12.706  31.821  63.657\n",
       "1         2  1.886  2.920   4.303   6.965   9.925\n",
       "2         3  1.638  2.353   3.182   4.541   5.841\n",
       "3         4  1.533  2.132   2.776   3.747   4.604\n",
       "4         5  1.476  2.015   2.571   3.365   4.032\n",
       "5         6  1.440  1.943   2.447   3.143   3.707\n",
       "6         7  1.415  1.895   2.365   2.998   3.499\n",
       "7         8  1.397  1.860   2.306   2.896   3.355\n",
       "8         9  1.383  1.833   2.262   2.821   3.250\n",
       "9        10  1.372  1.812   2.228   2.764   3.169\n",
       "10       11  1.363  1.796   2.201   2.718   3.106\n",
       "11       12  1.356  1.782   2.179   2.681   3.055"
      ]
     },
     "execution_count": 31,
     "metadata": {},
     "output_type": "execute_result"
    }
   ],
   "source": [
    "t_table = pd.read_csv('t_table.csv', sep='\\t')\n",
    "t_table.head(12)"
   ]
  },
  {
   "cell_type": "code",
   "execution_count": 82,
   "id": "16de4619-17bf-4569-9344-db4e2ba66898",
   "metadata": {},
   "outputs": [],
   "source": [
    "def t_statistic(alpha, length):\n",
    "    index = length-2\n",
    "    alpha_half = alpha/2\n",
    "    value = t_table.iloc[index, t_table.columns.get_loc(f'{alpha_half}')]\n",
    "    return float(value)"
   ]
  },
  {
   "cell_type": "markdown",
   "id": "01980d5d-8217-4d65-9c3c-f5118365cff8",
   "metadata": {},
   "source": [
    "###Calculate the 95% confidence interval ###alpha/2 is 0.025 ###(t-1) is 9\n",
    "###t-statistic is 2.262"
   ]
  },
  {
   "cell_type": "code",
   "execution_count": 83,
   "id": "eb0ced12-d673-4702-ab16-e368130038e0",
   "metadata": {},
   "outputs": [
    {
     "name": "stdout",
     "output_type": "stream",
     "text": [
      "2.262\n"
     ]
    }
   ],
   "source": [
    "t_stat_95 = t_statistic(0.05, 10)\n",
    "print(t_stat)"
   ]
  },
  {
   "cell_type": "code",
   "execution_count": 84,
   "id": "f6dd6df2-5189-49e3-8c57-4856ba1434f7",
   "metadata": {},
   "outputs": [],
   "source": [
    "confidence_interval_low = round((dif_mean-t_stat_95*dif_sample_standard_error),2)\n",
    "confidence_interval_up = round((dif_mean+t_stat_95*dif_sample_standard_error),2)"
   ]
  },
  {
   "cell_type": "markdown",
   "id": "4c682cb8-a63a-449a-971c-a3ad2a7d8873",
   "metadata": {},
   "source": [
    "###for 90% and 99%"
   ]
  },
  {
   "cell_type": "code",
   "execution_count": 85,
   "id": "dcb6e91a-7aab-4365-b2d1-b085d6208601",
   "metadata": {},
   "outputs": [
    {
     "name": "stdout",
     "output_type": "stream",
     "text": [
      "1.833\n"
     ]
    }
   ],
   "source": [
    "t_stat_90 = t_statistic(0.1, 10)\n",
    "print(t_stat_90)"
   ]
  },
  {
   "cell_type": "code",
   "execution_count": 86,
   "id": "a5b48a47-0d02-437b-a80b-632524435617",
   "metadata": {},
   "outputs": [],
   "source": [
    "confidence_interval_90_low = round((dif_mean-t_stat_90*dif_sample_standard_error),2)\n",
    "confidence_interval_90_up = round((dif_mean+t_stat_90*dif_sample_standard_error),2)"
   ]
  },
  {
   "cell_type": "code",
   "execution_count": 87,
   "id": "fbd83696-e9bb-4dcf-bb4c-2dc104b0bae3",
   "metadata": {},
   "outputs": [
    {
     "name": "stdout",
     "output_type": "stream",
     "text": [
      "3.25\n"
     ]
    }
   ],
   "source": [
    "t_stat_99 = t_statistic(0.01, 10)\n",
    "print(t_stat_99)"
   ]
  },
  {
   "cell_type": "code",
   "execution_count": 88,
   "id": "0c64ae45-0996-4224-92fa-1c4ef845bad4",
   "metadata": {},
   "outputs": [],
   "source": [
    "confidence_interval_99_low = round((dif_mean-t_stat_99*dif_sample_standard_error),2)\n",
    "confidence_interval_99_up = round((dif_mean+t_stat_99*dif_sample_standard_error),2)"
   ]
  },
  {
   "cell_type": "code",
   "execution_count": 90,
   "id": "2d3058c1-b7d9-4b3e-bd1a-608d3bf1a032",
   "metadata": {},
   "outputs": [
    {
     "name": "stdout",
     "output_type": "stream",
     "text": [
      "confidence interval for 90% is [-24.0, -16.04] 7.96 width\n",
      "confidence interval for 95% is [-24.93, -15.11] 9.82 width\n",
      "confidence interval for 99% is [-27.07, -12.97] 14.1 width\n"
     ]
    }
   ],
   "source": [
    "print(f'confidence interval for 90% is [{confidence_interval_90_low}, {confidence_interval_90_up}] {abs(round((confidence_interval_90_up-confidence_interval_90_low),2))} width')\n",
    "print(f'confidence interval for 95% is [{confidence_interval_low}, {confidence_interval_up}] {abs(confidence_interval_up-confidence_interval_low)} width')\n",
    "print(f'confidence interval for 99% is [{confidence_interval_99_low}, {confidence_interval_99_up}] {abs(round((confidence_interval_99_up-confidence_interval_99_low),2))} width')"
   ]
  },
  {
   "cell_type": "code",
   "execution_count": null,
   "id": "034dad12-bebf-434c-a59a-b86bff71a949",
   "metadata": {},
   "outputs": [],
   "source": []
  }
 ],
 "metadata": {
  "kernelspec": {
   "display_name": "Python 3 (ipykernel)",
   "language": "python",
   "name": "python3"
  },
  "language_info": {
   "codemirror_mode": {
    "name": "ipython",
    "version": 3
   },
   "file_extension": ".py",
   "mimetype": "text/x-python",
   "name": "python",
   "nbconvert_exporter": "python",
   "pygments_lexer": "ipython3",
   "version": "3.11.7"
  }
 },
 "nbformat": 4,
 "nbformat_minor": 5
}
