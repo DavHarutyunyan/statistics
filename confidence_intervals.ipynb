{
 "cells": [
  {
   "cell_type": "code",
   "execution_count": 1,
   "id": "ce35334c-6f1c-4137-aa94-20d71ab05347",
   "metadata": {},
   "outputs": [],
   "source": [
    "import pandas as pd\n",
    "import numpy as np"
   ]
  },
  {
   "cell_type": "code",
   "execution_count": 34,
   "id": "cc78550d-cc5b-4828-8079-13c59e15afbc",
   "metadata": {
    "scrolled": true
   },
   "outputs": [
    {
     "data": {
      "text/html": [
       "<div>\n",
       "<style scoped>\n",
       "    .dataframe tbody tr th:only-of-type {\n",
       "        vertical-align: middle;\n",
       "    }\n",
       "\n",
       "    .dataframe tbody tr th {\n",
       "        vertical-align: top;\n",
       "    }\n",
       "\n",
       "    .dataframe thead th {\n",
       "        text-align: right;\n",
       "    }\n",
       "</style>\n",
       "<table border=\"1\" class=\"dataframe\">\n",
       "  <thead>\n",
       "    <tr style=\"text-align: right;\">\n",
       "      <th></th>\n",
       "      <th>Dataset</th>\n",
       "    </tr>\n",
       "  </thead>\n",
       "  <tbody>\n",
       "    <tr>\n",
       "      <th>0</th>\n",
       "      <td>$117,313</td>\n",
       "    </tr>\n",
       "    <tr>\n",
       "      <th>1</th>\n",
       "      <td>$104,002</td>\n",
       "    </tr>\n",
       "    <tr>\n",
       "      <th>2</th>\n",
       "      <td>$113,038</td>\n",
       "    </tr>\n",
       "  </tbody>\n",
       "</table>\n",
       "</div>"
      ],
      "text/plain": [
       "      Dataset\n",
       "0   $117,313 \n",
       "1   $104,002 \n",
       "2   $113,038 "
      ]
     },
     "execution_count": 34,
     "metadata": {},
     "output_type": "execute_result"
    }
   ],
   "source": [
    "ds = pd.read_csv('dataset.csv', sep='\\t')\n",
    "ds.head(3)"
   ]
  },
  {
   "cell_type": "code",
   "execution_count": 35,
   "id": "29da885a-cba8-48eb-b88b-e20d96c13350",
   "metadata": {},
   "outputs": [
    {
     "data": {
      "text/plain": [
       "Dataset    object\n",
       "dtype: object"
      ]
     },
     "execution_count": 35,
     "metadata": {},
     "output_type": "execute_result"
    }
   ],
   "source": [
    "ds.dtypes"
   ]
  },
  {
   "cell_type": "code",
   "execution_count": 58,
   "id": "efede62b-9f78-419d-ba81-ea4530b426bf",
   "metadata": {},
   "outputs": [],
   "source": [
    "salary = ds['Dataset']\n",
    "# salary = salary.str.replace('$', '')\n",
    "# salary = salary.str.replace(',', '')\n",
    "# salary = salary.astype(float)\n",
    "# ds['Dataset'] = salary"
   ]
  },
  {
   "cell_type": "code",
   "execution_count": 59,
   "id": "2721798c-7d3e-485c-9750-288c1d6d0ee3",
   "metadata": {},
   "outputs": [
    {
     "data": {
      "text/html": [
       "<div>\n",
       "<style scoped>\n",
       "    .dataframe tbody tr th:only-of-type {\n",
       "        vertical-align: middle;\n",
       "    }\n",
       "\n",
       "    .dataframe tbody tr th {\n",
       "        vertical-align: top;\n",
       "    }\n",
       "\n",
       "    .dataframe thead th {\n",
       "        text-align: right;\n",
       "    }\n",
       "</style>\n",
       "<table border=\"1\" class=\"dataframe\">\n",
       "  <thead>\n",
       "    <tr style=\"text-align: right;\">\n",
       "      <th></th>\n",
       "      <th>Dataset</th>\n",
       "    </tr>\n",
       "  </thead>\n",
       "  <tbody>\n",
       "    <tr>\n",
       "      <th>0</th>\n",
       "      <td>117313.0</td>\n",
       "    </tr>\n",
       "    <tr>\n",
       "      <th>1</th>\n",
       "      <td>104002.0</td>\n",
       "    </tr>\n",
       "    <tr>\n",
       "      <th>2</th>\n",
       "      <td>113038.0</td>\n",
       "    </tr>\n",
       "  </tbody>\n",
       "</table>\n",
       "</div>"
      ],
      "text/plain": [
       "    Dataset\n",
       "0  117313.0\n",
       "1  104002.0\n",
       "2  113038.0"
      ]
     },
     "execution_count": 59,
     "metadata": {},
     "output_type": "execute_result"
    }
   ],
   "source": [
    "ds.head(3)"
   ]
  },
  {
   "cell_type": "code",
   "execution_count": 111,
   "id": "a0ee0e4e-159d-4aef-a772-bcbbcfb97894",
   "metadata": {},
   "outputs": [
    {
     "data": {
      "text/plain": [
       "100200.37"
      ]
     },
     "execution_count": 111,
     "metadata": {},
     "output_type": "execute_result"
    }
   ],
   "source": [
    "ds_mean = round((sum(salary)/len(salary)), 2)\n",
    "ds_mean"
   ]
  },
  {
   "cell_type": "code",
   "execution_count": 97,
   "id": "f22e56fc-d9e6-4da5-9aca-743689e6035d",
   "metadata": {},
   "outputs": [
    {
     "data": {
      "text/plain": [
       "127362013.63"
      ]
     },
     "execution_count": 97,
     "metadata": {},
     "output_type": "execute_result"
    }
   ],
   "source": [
    "ds_population_variance = round((np.sum((salary-ds_mean)**2)/len(salary)),2) \n",
    "ds_population_variance"
   ]
  },
  {
   "cell_type": "code",
   "execution_count": 98,
   "id": "49c9d42b-bb94-4e07-aab0-8ddce2a24b46",
   "metadata": {},
   "outputs": [
    {
     "data": {
      "text/plain": [
       "11478.41"
      ]
     },
     "execution_count": 98,
     "metadata": {},
     "output_type": "execute_result"
    }
   ],
   "source": [
    "ds_population_std = round((pow(ds_variance, 1/2)),2)\n",
    "ds_population_std"
   ]
  },
  {
   "cell_type": "markdown",
   "id": "c4bd22b3-f3de-4d76-8adb-55b16447c7ac",
   "metadata": {},
   "source": [
    "###standard error = standard_deviation / √n"
   ]
  },
  {
   "cell_type": "code",
   "execution_count": 103,
   "id": "857485d2-ae21-46d3-9446-0d04f8a0296a",
   "metadata": {},
   "outputs": [],
   "source": [
    "ds_standard_error = round((ds_std/pow((len(salary)),1/2)),2)"
   ]
  },
  {
   "cell_type": "code",
   "execution_count": 104,
   "id": "f5893fc5-9db2-4145-99a2-def6d00d95ec",
   "metadata": {},
   "outputs": [
    {
     "data": {
      "text/plain": [
       "2095.66"
      ]
     },
     "execution_count": 104,
     "metadata": {},
     "output_type": "execute_result"
    }
   ],
   "source": [
    "ds_standard_error"
   ]
  },
  {
   "cell_type": "markdown",
   "id": "0811b5fc-7627-4770-a99a-8d547946b775",
   "metadata": {},
   "source": [
    "###Find the appropriate z-score for calculating a 90% confidence interval\n",
    "###[sample_mean - Z of alpha/2 * standard_error. sample_mean + Z of alpha/2 * standard_error]"
   ]
  },
  {
   "cell_type": "markdown",
   "id": "b169274e-f9c5-4e62-adec-7106bf12d0ff",
   "metadata": {},
   "source": [
    "###alpha is 10% = 0.1,  Z of alpha/2 is Z of 0.05\n",
    "###Z is 1 - 0.05 = 0.950, by z-table corresponds to 1.6 and 0.05\n",
    "###So Z of 0.05 = 1.6 + 0.05 = 1.65"
   ]
  },
  {
   "cell_type": "code",
   "execution_count": 118,
   "id": "af072874-48e2-48a2-88a1-05da4e794606",
   "metadata": {},
   "outputs": [],
   "source": [
    "confidence_90_min = round((ds_mean - 1.65 * ds_standard_error),2)\n",
    "confidence_90_max = round((ds_mean + 1.65 * ds_standard_error),2)"
   ]
  },
  {
   "cell_type": "code",
   "execution_count": 119,
   "id": "f04d91e8-fc99-4f8a-811c-1777fb7fbf39",
   "metadata": {},
   "outputs": [
    {
     "name": "stdout",
     "output_type": "stream",
     "text": [
      "90% confidence interval is [96742.53, 103658.21]\n"
     ]
    }
   ],
   "source": [
    "print(f'90% confidence interval is [{confidence_90_min}, {confidence_90_max}]')\n"
   ]
  },
  {
   "cell_type": "code",
   "execution_count": null,
   "id": "9dc5a29f-5484-4900-b3f5-7c5411f2cedf",
   "metadata": {},
   "outputs": [],
   "source": []
  }
 ],
 "metadata": {
  "kernelspec": {
   "display_name": "Python 3 (ipykernel)",
   "language": "python",
   "name": "python3"
  },
  "language_info": {
   "codemirror_mode": {
    "name": "ipython",
    "version": 3
   },
   "file_extension": ".py",
   "mimetype": "text/x-python",
   "name": "python",
   "nbconvert_exporter": "python",
   "pygments_lexer": "ipython3",
   "version": "3.11.7"
  }
 },
 "nbformat": 4,
 "nbformat_minor": 5
}
