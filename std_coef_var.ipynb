{
 "cells": [
  {
   "cell_type": "code",
   "execution_count": 1,
   "id": "8ff780eb-b1ec-475e-a25e-3b82aa9eecc2",
   "metadata": {},
   "outputs": [],
   "source": [
    "import numpy as np\n",
    "import pandas as pd"
   ]
  },
  {
   "cell_type": "code",
   "execution_count": 2,
   "id": "7fe6d063-6749-4128-b5a1-377e01489257",
   "metadata": {},
   "outputs": [
    {
     "data": {
      "text/html": [
       "<div>\n",
       "<style scoped>\n",
       "    .dataframe tbody tr th:only-of-type {\n",
       "        vertical-align: middle;\n",
       "    }\n",
       "\n",
       "    .dataframe tbody tr th {\n",
       "        vertical-align: top;\n",
       "    }\n",
       "\n",
       "    .dataframe thead th {\n",
       "        text-align: right;\n",
       "    }\n",
       "</style>\n",
       "<table border=\"1\" class=\"dataframe\">\n",
       "  <thead>\n",
       "    <tr style=\"text-align: right;\">\n",
       "      <th></th>\n",
       "      <th>Annual income</th>\n",
       "      <th>Annual income Denmark</th>\n",
       "    </tr>\n",
       "  </thead>\n",
       "  <tbody>\n",
       "    <tr>\n",
       "      <th>0</th>\n",
       "      <td>62000.0</td>\n",
       "      <td>462852.37</td>\n",
       "    </tr>\n",
       "    <tr>\n",
       "      <th>1</th>\n",
       "      <td>64000.0</td>\n",
       "      <td>470317.73</td>\n",
       "    </tr>\n",
       "    <tr>\n",
       "      <th>2</th>\n",
       "      <td>49000.0</td>\n",
       "      <td>567367.42</td>\n",
       "    </tr>\n",
       "    <tr>\n",
       "      <th>3</th>\n",
       "      <td>324000.0</td>\n",
       "      <td>589763.50</td>\n",
       "    </tr>\n",
       "    <tr>\n",
       "      <th>4</th>\n",
       "      <td>1264000.0</td>\n",
       "      <td>500179.17</td>\n",
       "    </tr>\n",
       "    <tr>\n",
       "      <th>5</th>\n",
       "      <td>54330.0</td>\n",
       "      <td>492713.81</td>\n",
       "    </tr>\n",
       "    <tr>\n",
       "      <th>6</th>\n",
       "      <td>64000.0</td>\n",
       "      <td>515109.89</td>\n",
       "    </tr>\n",
       "    <tr>\n",
       "      <th>7</th>\n",
       "      <td>51000.0</td>\n",
       "      <td>507644.53</td>\n",
       "    </tr>\n",
       "    <tr>\n",
       "      <th>8</th>\n",
       "      <td>55000.0</td>\n",
       "      <td>425525.56</td>\n",
       "    </tr>\n",
       "    <tr>\n",
       "      <th>9</th>\n",
       "      <td>48000.0</td>\n",
       "      <td>522575.25</td>\n",
       "    </tr>\n",
       "    <tr>\n",
       "      <th>10</th>\n",
       "      <td>53000.0</td>\n",
       "      <td>500179.17</td>\n",
       "    </tr>\n",
       "  </tbody>\n",
       "</table>\n",
       "</div>"
      ],
      "text/plain": [
       "    Annual income  Annual income Denmark\n",
       "0         62000.0              462852.37\n",
       "1         64000.0              470317.73\n",
       "2         49000.0              567367.42\n",
       "3        324000.0              589763.50\n",
       "4       1264000.0              500179.17\n",
       "5         54330.0              492713.81\n",
       "6         64000.0              515109.89\n",
       "7         51000.0              507644.53\n",
       "8         55000.0              425525.56\n",
       "9         48000.0              522575.25\n",
       "10        53000.0              500179.17"
      ]
     },
     "execution_count": 2,
     "metadata": {},
     "output_type": "execute_result"
    }
   ],
   "source": [
    "df = pd.read_csv('Annual_income.csv')\n",
    "df"
   ]
  },
  {
   "cell_type": "code",
   "execution_count": 3,
   "id": "c4c5b313-e0a5-4907-ac65-1dd5ef93e878",
   "metadata": {},
   "outputs": [
    {
     "data": {
      "text/html": [
       "<div>\n",
       "<style scoped>\n",
       "    .dataframe tbody tr th:only-of-type {\n",
       "        vertical-align: middle;\n",
       "    }\n",
       "\n",
       "    .dataframe tbody tr th {\n",
       "        vertical-align: top;\n",
       "    }\n",
       "\n",
       "    .dataframe thead th {\n",
       "        text-align: right;\n",
       "    }\n",
       "</style>\n",
       "<table border=\"1\" class=\"dataframe\">\n",
       "  <thead>\n",
       "    <tr style=\"text-align: right;\">\n",
       "      <th></th>\n",
       "      <th>Annual income</th>\n",
       "      <th>Annual income Denmark</th>\n",
       "    </tr>\n",
       "  </thead>\n",
       "  <tbody>\n",
       "    <tr>\n",
       "      <th>0</th>\n",
       "      <td>62000.0</td>\n",
       "      <td>462852.37</td>\n",
       "    </tr>\n",
       "    <tr>\n",
       "      <th>1</th>\n",
       "      <td>64000.0</td>\n",
       "      <td>470317.73</td>\n",
       "    </tr>\n",
       "    <tr>\n",
       "      <th>2</th>\n",
       "      <td>49000.0</td>\n",
       "      <td>567367.42</td>\n",
       "    </tr>\n",
       "    <tr>\n",
       "      <th>3</th>\n",
       "      <td>324000.0</td>\n",
       "      <td>589763.50</td>\n",
       "    </tr>\n",
       "    <tr>\n",
       "      <th>4</th>\n",
       "      <td>1264000.0</td>\n",
       "      <td>500179.17</td>\n",
       "    </tr>\n",
       "    <tr>\n",
       "      <th>5</th>\n",
       "      <td>54330.0</td>\n",
       "      <td>492713.81</td>\n",
       "    </tr>\n",
       "    <tr>\n",
       "      <th>6</th>\n",
       "      <td>64000.0</td>\n",
       "      <td>515109.89</td>\n",
       "    </tr>\n",
       "    <tr>\n",
       "      <th>7</th>\n",
       "      <td>51000.0</td>\n",
       "      <td>507644.53</td>\n",
       "    </tr>\n",
       "    <tr>\n",
       "      <th>8</th>\n",
       "      <td>55000.0</td>\n",
       "      <td>425525.56</td>\n",
       "    </tr>\n",
       "    <tr>\n",
       "      <th>9</th>\n",
       "      <td>48000.0</td>\n",
       "      <td>522575.25</td>\n",
       "    </tr>\n",
       "    <tr>\n",
       "      <th>10</th>\n",
       "      <td>53000.0</td>\n",
       "      <td>500179.17</td>\n",
       "    </tr>\n",
       "  </tbody>\n",
       "</table>\n",
       "</div>"
      ],
      "text/plain": [
       "    Annual income  Annual income Denmark\n",
       "0         62000.0              462852.37\n",
       "1         64000.0              470317.73\n",
       "2         49000.0              567367.42\n",
       "3        324000.0              589763.50\n",
       "4       1264000.0              500179.17\n",
       "5         54330.0              492713.81\n",
       "6         64000.0              515109.89\n",
       "7         51000.0              507644.53\n",
       "8         55000.0              425525.56\n",
       "9         48000.0              522575.25\n",
       "10        53000.0              500179.17"
      ]
     },
     "execution_count": 3,
     "metadata": {},
     "output_type": "execute_result"
    }
   ],
   "source": [
    "df['Annual income Denmark'] = [462852.37,\n",
    "                               470317.73,\n",
    "                               567367.42,\n",
    "                               589763.50,\n",
    "                               500179.17,\n",
    "                               492713.81,\n",
    "                               515109.89,\n",
    "                               507644.53,\n",
    "                               425525.56,\n",
    "                               522575.25,\n",
    "                               500179.17]\n",
    "df"
   ]
  },
  {
   "cell_type": "code",
   "execution_count": 4,
   "id": "34537d2d-45b3-47e4-a98f-337ceb518aa0",
   "metadata": {},
   "outputs": [],
   "source": [
    "df.to_csv('Annual_income.csv', index=False)"
   ]
  },
  {
   "cell_type": "code",
   "execution_count": 5,
   "id": "69ca2215-2078-4477-9796-612b2b86a029",
   "metadata": {},
   "outputs": [],
   "source": [
    "usa = df['Annual income']\n",
    "den = df['Annual income Denmark']"
   ]
  },
  {
   "cell_type": "code",
   "execution_count": 6,
   "id": "4af85d1a-29b2-4007-9694-da3401279fe8",
   "metadata": {},
   "outputs": [],
   "source": [
    "def mean(ds):\n",
    "    mean = sum(ds)/len(ds)\n",
    "    return round(mean, 2) "
   ]
  },
  {
   "cell_type": "code",
   "execution_count": 7,
   "id": "66a7c072-f1ab-4568-9c00-27172feb205f",
   "metadata": {},
   "outputs": [],
   "source": [
    "def variance(ds):\n",
    "    variance_sum = sum(pow((x-mean(ds)), 2) for x in ds)\n",
    "    variance = variance_sum/(len(ds)-1)\n",
    "    return round(variance, 2)"
   ]
  },
  {
   "cell_type": "code",
   "execution_count": 10,
   "id": "d3c7adbb-0bf0-4808-8359-dc14c6c73156",
   "metadata": {},
   "outputs": [],
   "source": [
    "def std(ds):\n",
    "    std = pow(variance(ds), 1/2)\n",
    "    return round(std, 2)"
   ]
  },
  {
   "cell_type": "code",
   "execution_count": 12,
   "id": "fea40726-0525-4e8a-beb9-4704c7718b7e",
   "metadata": {},
   "outputs": [],
   "source": [
    "def coef_of_variation(ds):\n",
    "    coef = std(ds)/mean(ds)\n",
    "    return round(coef, 2)"
   ]
  },
  {
   "cell_type": "code",
   "execution_count": 13,
   "id": "f8a97d8f-5f08-45ac-bfa7-369b9e9928dc",
   "metadata": {},
   "outputs": [
    {
     "name": "stdout",
     "output_type": "stream",
     "text": [
      "USA mean =  189848.18\n",
      "USA variance =  133433409536.36\n",
      "USA std =  365285.38\n",
      "USA coefficient of variation =  1.92\n",
      "Denmark mean =  504929.85\n",
      "Denmark variance =  2098548516.15\n",
      "Denmark std =  45809.92\n",
      "Denmark coefficient of variation =  0.09\n"
     ]
    }
   ],
   "source": [
    "print('USA mean = ', mean(usa))\n",
    "print('USA variance = ', variance(usa))\n",
    "print('USA std = ', std(usa))\n",
    "print('USA coefficient of variation = ', coef_of_variation(usa))\n",
    "\n",
    "print('Denmark mean = ', mean(den))\n",
    "print('Denmark variance = ', variance(den))\n",
    "print('Denmark std = ', std(den))\n",
    "print('Denmark coefficient of variation = ', coef_of_variation(den))\n"
   ]
  },
  {
   "cell_type": "code",
   "execution_count": null,
   "id": "de0a1114-024a-46f3-801c-a7718fffe29e",
   "metadata": {},
   "outputs": [],
   "source": []
  },
  {
   "cell_type": "code",
   "execution_count": null,
   "id": "87f03b86-83d3-4b50-a134-bfd09d61015f",
   "metadata": {},
   "outputs": [],
   "source": []
  }
 ],
 "metadata": {
  "kernelspec": {
   "display_name": "Python 3 (ipykernel)",
   "language": "python",
   "name": "python3"
  },
  "language_info": {
   "codemirror_mode": {
    "name": "ipython",
    "version": 3
   },
   "file_extension": ".py",
   "mimetype": "text/x-python",
   "name": "python",
   "nbconvert_exporter": "python",
   "pygments_lexer": "ipython3",
   "version": "3.11.7"
  }
 },
 "nbformat": 4,
 "nbformat_minor": 5
}
